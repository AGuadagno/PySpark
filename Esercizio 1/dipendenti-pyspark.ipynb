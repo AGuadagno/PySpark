{
 "cells": [
  {
   "cell_type": "code",
   "execution_count": 1,
   "metadata": {
    "execution": {
     "iopub.execute_input": "2023-02-23T10:33:46.484857Z",
     "iopub.status.busy": "2023-02-23T10:33:46.484334Z",
     "iopub.status.idle": "2023-02-23T10:33:46.563188Z",
     "shell.execute_reply": "2023-02-23T10:33:46.561961Z",
     "shell.execute_reply.started": "2023-02-23T10:33:46.484753Z"
    }
   },
   "outputs": [],
   "source": [
    "# Librerie\n",
    "from pyspark.sql import SparkSession\n",
    "from pyspark.sql.window import Window as W\n",
    "import pyspark.sql.types as T\n",
    "import pyspark.sql.functions as F"
   ]
  },
  {
   "cell_type": "code",
   "execution_count": 2,
   "metadata": {
    "execution": {
     "iopub.execute_input": "2023-02-23T10:33:46.566436Z",
     "iopub.status.busy": "2023-02-23T10:33:46.565955Z",
     "iopub.status.idle": "2023-02-23T10:33:51.440225Z",
     "shell.execute_reply": "2023-02-23T10:33:51.438740Z",
     "shell.execute_reply.started": "2023-02-23T10:33:46.566388Z"
    }
   },
   "outputs": [
    {
     "name": "stderr",
     "output_type": "stream",
     "text": [
      "bash: /opt/conda/lib/libtinfo.so.6: no version information available (required by bash)\n",
      "bash: /opt/conda/lib/libtinfo.so.6: no version information available (required by bash)\n",
      "Setting default log level to \"WARN\".\n",
      "To adjust logging level use sc.setLogLevel(newLevel). For SparkR, use setLogLevel(newLevel).\n"
     ]
    },
    {
     "name": "stdout",
     "output_type": "stream",
     "text": [
      "23/02/23 10:33:49 WARN NativeCodeLoader: Unable to load native-hadoop library for your platform... using builtin-java classes where applicable\n"
     ]
    }
   ],
   "source": [
    "# Creazione Spark Session\n",
    "spark = (SparkSession.builder.appName(\"DipendentiAnalytics\").getOrCreate())"
   ]
  },
  {
   "cell_type": "code",
   "execution_count": 3,
   "metadata": {
    "execution": {
     "iopub.execute_input": "2023-02-23T10:33:51.442418Z",
     "iopub.status.busy": "2023-02-23T10:33:51.441952Z",
     "iopub.status.idle": "2023-02-23T10:33:51.454520Z",
     "shell.execute_reply": "2023-02-23T10:33:51.452792Z",
     "shell.execute_reply.started": "2023-02-23T10:33:51.442367Z"
    }
   },
   "outputs": [],
   "source": [
    "# Definizione schema dati\n",
    "schema = T.StructType([\n",
    "    T.StructField(\"Nome\", T.StringType(), True),\n",
    "    T.StructField(\"Cognome\", T.StringType(), True),\n",
    "    T.StructField(\"Reparto\", T.StringType(), True),\n",
    "    T.StructField(\"Stipendio\", T.IntegerType(), True)\n",
    "])"
   ]
  },
  {
   "cell_type": "code",
   "execution_count": 4,
   "metadata": {
    "execution": {
     "iopub.execute_input": "2023-02-23T10:33:51.458049Z",
     "iopub.status.busy": "2023-02-23T10:33:51.456191Z",
     "iopub.status.idle": "2023-02-23T10:33:54.907663Z",
     "shell.execute_reply": "2023-02-23T10:33:54.906381Z",
     "shell.execute_reply.started": "2023-02-23T10:33:51.458012Z"
    }
   },
   "outputs": [
    {
     "name": "stdout",
     "output_type": "stream",
     "text": [
      "root\n",
      " |-- Nome: string (nullable = true)\n",
      " |-- Cognome: string (nullable = true)\n",
      " |-- Reparto: string (nullable = true)\n",
      " |-- Stipendio: integer (nullable = true)\n",
      "\n"
     ]
    }
   ],
   "source": [
    "# Percorso del csv file che vogliamo leggere\n",
    "dipendenti_fpath = \"/kaggle/input/dipendenti/Dipendenti.csv\"\n",
    "\n",
    "# Lettura del csv file\n",
    "dipendenti_data_raw = (spark.read.format(\"csv\")\n",
    "                       .option(\"header\", True)\n",
    "                       .option(\"delimiter\", \";\")\n",
    "                       .schema(schema)\n",
    "                       .load(dipendenti_fpath))\n",
    "\n",
    "# Stampare lo schema\n",
    "dipendenti_data_raw.printSchema()"
   ]
  },
  {
   "cell_type": "code",
   "execution_count": 5,
   "metadata": {
    "execution": {
     "iopub.execute_input": "2023-02-23T10:33:54.912623Z",
     "iopub.status.busy": "2023-02-23T10:33:54.911744Z",
     "iopub.status.idle": "2023-02-23T10:33:57.304731Z",
     "shell.execute_reply": "2023-02-23T10:33:57.303732Z",
     "shell.execute_reply.started": "2023-02-23T10:33:54.912575Z"
    }
   },
   "outputs": [
    {
     "name": "stdout",
     "output_type": "stream",
     "text": [
      "+--------+--------+-------+---------+\n",
      "|    Nome| Cognome|Reparto|Stipendio|\n",
      "+--------+--------+-------+---------+\n",
      "|  Andrea|  Assini|     IT|     1500|\n",
      "|   Bruno| Bettini|     IT|     2000|\n",
      "|   Carlo|Cicerini|     IT|     1800|\n",
      "|   Dario|  Desini|     HR|     1200|\n",
      "|   Elena| Ettorre|     HR|     1600|\n",
      "|Federica| Fierini|     HR|     2200|\n",
      "|  Giulia|Giorgini|     HR|     1400|\n",
      "|   Ivana|  Itteri|    CEO|     3000|\n",
      "+--------+--------+-------+---------+\n",
      "\n"
     ]
    }
   ],
   "source": [
    "dipendenti_data_raw.show(10)"
   ]
  },
  {
   "cell_type": "code",
   "execution_count": 6,
   "metadata": {
    "execution": {
     "iopub.execute_input": "2023-02-23T10:33:57.306549Z",
     "iopub.status.busy": "2023-02-23T10:33:57.306109Z",
     "iopub.status.idle": "2023-02-23T10:33:57.584480Z",
     "shell.execute_reply": "2023-02-23T10:33:57.583557Z",
     "shell.execute_reply.started": "2023-02-23T10:33:57.306504Z"
    }
   },
   "outputs": [
    {
     "name": "stdout",
     "output_type": "stream",
     "text": [
      "+--------+--------+\n",
      "|    Nome| Cognome|\n",
      "+--------+--------+\n",
      "|  Andrea|  Assini|\n",
      "|   Bruno| Bettini|\n",
      "|   Carlo|Cicerini|\n",
      "|   Dario|  Desini|\n",
      "|   Elena| Ettorre|\n",
      "|Federica| Fierini|\n",
      "|  Giulia|Giorgini|\n",
      "|   Ivana|  Itteri|\n",
      "+--------+--------+\n",
      "\n"
     ]
    }
   ],
   "source": [
    "# Selezionare nome e cognome\n",
    "dipendenti_data_raw.select(\"Nome\", \"Cognome\").show(10)"
   ]
  },
  {
   "cell_type": "code",
   "execution_count": 7,
   "metadata": {
    "execution": {
     "iopub.execute_input": "2023-02-23T10:33:57.585814Z",
     "iopub.status.busy": "2023-02-23T10:33:57.585467Z",
     "iopub.status.idle": "2023-02-23T10:33:57.876087Z",
     "shell.execute_reply": "2023-02-23T10:33:57.874750Z",
     "shell.execute_reply.started": "2023-02-23T10:33:57.585782Z"
    }
   },
   "outputs": [
    {
     "name": "stdout",
     "output_type": "stream",
     "text": [
      "+--------+--------+-------+---------+---------------+\n",
      "|    Nome| Cognome|Reparto|Stipendio|    NomeCognome|\n",
      "+--------+--------+-------+---------+---------------+\n",
      "|  Andrea|  Assini|     IT|     1500|   AndreaAssini|\n",
      "|   Bruno| Bettini|     IT|     2000|   BrunoBettini|\n",
      "|   Carlo|Cicerini|     IT|     1800|  CarloCicerini|\n",
      "|   Dario|  Desini|     HR|     1200|    DarioDesini|\n",
      "|   Elena| Ettorre|     HR|     1600|   ElenaEttorre|\n",
      "|Federica| Fierini|     HR|     2200|FedericaFierini|\n",
      "|  Giulia|Giorgini|     HR|     1400| GiuliaGiorgini|\n",
      "|   Ivana|  Itteri|    CEO|     3000|    IvanaItteri|\n",
      "+--------+--------+-------+---------+---------------+\n",
      "\n"
     ]
    }
   ],
   "source": [
    "# Aggiungere la colonna NomeCognome\n",
    "dipendenti_data_raw = dipendenti_data_raw.withColumn(\"NomeCognome\", F.concat(F.col(\"Nome\"), F.col(\"Cognome\")))\n",
    "dipendenti_data_raw.show(10)"
   ]
  },
  {
   "cell_type": "code",
   "execution_count": 8,
   "metadata": {
    "execution": {
     "iopub.execute_input": "2023-02-23T10:33:57.877869Z",
     "iopub.status.busy": "2023-02-23T10:33:57.877397Z",
     "iopub.status.idle": "2023-02-23T10:33:58.234681Z",
     "shell.execute_reply": "2023-02-23T10:33:58.233529Z",
     "shell.execute_reply.started": "2023-02-23T10:33:57.877822Z"
    }
   },
   "outputs": [
    {
     "name": "stdout",
     "output_type": "stream",
     "text": [
      "+--------+-------+-------+---------+\n",
      "|    Nome|Cognome|Reparto|Stipendio|\n",
      "+--------+-------+-------+---------+\n",
      "|Federica|Fierini|     HR|     2200|\n",
      "|   Ivana| Itteri|    CEO|     3000|\n",
      "+--------+-------+-------+---------+\n",
      "\n"
     ]
    }
   ],
   "source": [
    "# Selezionare solo i dipendenti con uno stipendio > 2000\n",
    "dipendenti_data_raw.filter(F.col(\"stipendio\")>2000).drop(\"NomeCognome\").show(10)"
   ]
  },
  {
   "cell_type": "code",
   "execution_count": 9,
   "metadata": {
    "execution": {
     "iopub.execute_input": "2023-02-23T10:33:58.236344Z",
     "iopub.status.busy": "2023-02-23T10:33:58.235925Z",
     "iopub.status.idle": "2023-02-23T10:33:58.995870Z",
     "shell.execute_reply": "2023-02-23T10:33:58.994676Z",
     "shell.execute_reply.started": "2023-02-23T10:33:58.236291Z"
    }
   },
   "outputs": [
    {
     "data": {
      "text/plain": [
       "8"
      ]
     },
     "execution_count": 9,
     "metadata": {},
     "output_type": "execute_result"
    }
   ],
   "source": [
    "# Calcolare il numero di dipendente\n",
    "numero_dipendenti = dipendenti_data_raw.count()\n",
    "numero_dipendenti"
   ]
  },
  {
   "cell_type": "code",
   "execution_count": 10,
   "metadata": {
    "execution": {
     "iopub.execute_input": "2023-02-23T10:33:59.004732Z",
     "iopub.status.busy": "2023-02-23T10:33:59.001840Z",
     "iopub.status.idle": "2023-02-23T10:33:59.753435Z",
     "shell.execute_reply": "2023-02-23T10:33:59.752226Z",
     "shell.execute_reply.started": "2023-02-23T10:33:59.004680Z"
    }
   },
   "outputs": [
    {
     "name": "stdout",
     "output_type": "stream",
     "text": [
      "+-------+---------------+\n",
      "|Reparto|Stipendio Medio|\n",
      "+-------+---------------+\n",
      "|     HR|       1,600.00|\n",
      "|    CEO|       3,000.00|\n",
      "|     IT|       1,766.67|\n",
      "+-------+---------------+\n",
      "\n"
     ]
    }
   ],
   "source": [
    "# Calcolare stipendio medio per reparto\n",
    "stipendio_medio_df = dipendenti_data_raw.groupBy(\"Reparto\").agg(F.avg(\"Stipendio\").alias(\"Stipendio Medio\"))\n",
    "stipendio_medio_df = stipendio_medio_df.withColumn(\"Stipendio Medio\", F.format_number(\"Stipendio Medio\", 2))\n",
    "stipendio_medio_df.show(10)"
   ]
  },
  {
   "cell_type": "code",
   "execution_count": 11,
   "metadata": {
    "execution": {
     "iopub.execute_input": "2023-02-23T10:33:59.755103Z",
     "iopub.status.busy": "2023-02-23T10:33:59.754702Z",
     "iopub.status.idle": "2023-02-23T10:34:00.074496Z",
     "shell.execute_reply": "2023-02-23T10:34:00.073286Z",
     "shell.execute_reply.started": "2023-02-23T10:33:59.755053Z"
    }
   },
   "outputs": [
    {
     "name": "stdout",
     "output_type": "stream",
     "text": [
      "+---------------+\n",
      "|Totale stipendi|\n",
      "+---------------+\n",
      "|          14700|\n",
      "+---------------+\n",
      "\n"
     ]
    }
   ],
   "source": [
    "# Calcolare la somma di tutti gli stipendi\n",
    "totale_stipendi = dipendenti_data_raw.groupBy().agg(F.sum(\"Stipendio\").alias(\"Totale stipendi\"))\n",
    "totale_stipendi.show()"
   ]
  },
  {
   "cell_type": "code",
   "execution_count": 12,
   "metadata": {
    "execution": {
     "iopub.execute_input": "2023-02-23T10:34:00.076245Z",
     "iopub.status.busy": "2023-02-23T10:34:00.075775Z",
     "iopub.status.idle": "2023-02-23T10:34:00.486197Z",
     "shell.execute_reply": "2023-02-23T10:34:00.484981Z",
     "shell.execute_reply.started": "2023-02-23T10:34:00.076200Z"
    }
   },
   "outputs": [
    {
     "name": "stdout",
     "output_type": "stream",
     "text": [
      "+-------+----------------------------+\n",
      "|Reparto|Totale Stipendio per Reparto|\n",
      "+-------+----------------------------+\n",
      "|     HR|                        6400|\n",
      "|    CEO|                        3000|\n",
      "|     IT|                        5300|\n",
      "+-------+----------------------------+\n",
      "\n"
     ]
    }
   ],
   "source": [
    "# Calcolare la somma di tutti gli stipendi, reparto per reparto\n",
    "totale_stipendi_reparti = dipendenti_data_raw.groupBy(\"Reparto\").agg(F.sum(\"Stipendio\").alias(\"Totale Stipendio per Reparto\"))\n",
    "totale_stipendi_reparti.show()"
   ]
  },
  {
   "cell_type": "code",
   "execution_count": 13,
   "metadata": {
    "execution": {
     "iopub.execute_input": "2023-02-23T10:34:00.487871Z",
     "iopub.status.busy": "2023-02-23T10:34:00.487427Z",
     "iopub.status.idle": "2023-02-23T10:34:01.220812Z",
     "shell.execute_reply": "2023-02-23T10:34:01.219514Z",
     "shell.execute_reply.started": "2023-02-23T10:34:00.487830Z"
    }
   },
   "outputs": [
    {
     "name": "stdout",
     "output_type": "stream",
     "text": [
      "+--------+--------+-------+---------+-----------------------+\n",
      "|    Nome| Cognome|Reparto|Stipendio|Totale Stipendi Reparto|\n",
      "+--------+--------+-------+---------+-----------------------+\n",
      "|   Ivana|  Itteri|    CEO|     3000|                   3000|\n",
      "|   Dario|  Desini|     HR|     1200|                   6400|\n",
      "|   Elena| Ettorre|     HR|     1600|                   6400|\n",
      "|Federica| Fierini|     HR|     2200|                   6400|\n",
      "|  Giulia|Giorgini|     HR|     1400|                   6400|\n",
      "|  Andrea|  Assini|     IT|     1500|                   5300|\n",
      "|   Bruno| Bettini|     IT|     2000|                   5300|\n",
      "|   Carlo|Cicerini|     IT|     1800|                   5300|\n",
      "+--------+--------+-------+---------+-----------------------+\n",
      "\n"
     ]
    }
   ],
   "source": [
    "# Totale Stipendi Over Partition\n",
    "totale_stipendio_over_partition = dipendenti_data_raw.withColumn(\"Totale Stipendi Reparto\", F.sum(\"Stipendio\").over(W.partitionBy(\"Reparto\"))).drop(\"NomeCognome\")\n",
    "totale_stipendio_over_partition.show()"
   ]
  },
  {
   "cell_type": "code",
   "execution_count": 14,
   "metadata": {
    "execution": {
     "iopub.execute_input": "2023-02-23T10:34:01.226484Z",
     "iopub.status.busy": "2023-02-23T10:34:01.225839Z",
     "iopub.status.idle": "2023-02-23T10:34:01.641375Z",
     "shell.execute_reply": "2023-02-23T10:34:01.640141Z",
     "shell.execute_reply.started": "2023-02-23T10:34:01.226416Z"
    }
   },
   "outputs": [
    {
     "name": "stdout",
     "output_type": "stream",
     "text": [
      "+--------+--------+-------+---------+-----------------------+\n",
      "|    Nome| Cognome|Reparto|Stipendio|Totale Stipendi Reparto|\n",
      "+--------+--------+-------+---------+-----------------------+\n",
      "|   Ivana|  Itteri|    CEO|     3000|                   3000|\n",
      "|   Dario|  Desini|     HR|     1200|                   1200|\n",
      "|   Elena| Ettorre|     HR|     1600|                   2800|\n",
      "|Federica| Fierini|     HR|     2200|                   5000|\n",
      "|  Giulia|Giorgini|     HR|     1400|                   6400|\n",
      "|  Andrea|  Assini|     IT|     1500|                   1500|\n",
      "|   Bruno| Bettini|     IT|     2000|                   3500|\n",
      "|   Carlo|Cicerini|     IT|     1800|                   5300|\n",
      "+--------+--------+-------+---------+-----------------------+\n",
      "\n"
     ]
    }
   ],
   "source": [
    "# Totale Stipendi Over Partition Order By\n",
    "totale_stipendio_over_partition = dipendenti_data_raw.withColumn(\"Totale Stipendi Reparto\", F.sum(\"Stipendio\").over(W.partitionBy(\"Reparto\").orderBy(\"Nome\"))).drop(\"NomeCognome\")\n",
    "totale_stipendio_over_partition.show()"
   ]
  }
 ],
 "metadata": {
  "kernelspec": {
   "display_name": "Python 3 (ipykernel)",
   "language": "python",
   "name": "python3"
  },
  "language_info": {
   "codemirror_mode": {
    "name": "ipython",
    "version": 3
   },
   "file_extension": ".py",
   "mimetype": "text/x-python",
   "name": "python",
   "nbconvert_exporter": "python",
   "pygments_lexer": "ipython3",
   "version": "3.9.13"
  }
 },
 "nbformat": 4,
 "nbformat_minor": 4
}
