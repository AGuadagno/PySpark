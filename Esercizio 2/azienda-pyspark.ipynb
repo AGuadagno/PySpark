{
 "cells": [
  {
   "cell_type": "code",
   "execution_count": 1,
   "metadata": {
    "execution": {
     "iopub.execute_input": "2023-02-26T17:27:14.995735Z",
     "iopub.status.busy": "2023-02-26T17:27:14.994897Z",
     "iopub.status.idle": "2023-02-26T17:27:25.342975Z",
     "shell.execute_reply": "2023-02-26T17:27:25.341710Z",
     "shell.execute_reply.started": "2023-02-26T17:27:14.995689Z"
    }
   },
   "outputs": [
    {
     "name": "stdout",
     "output_type": "stream",
     "text": [
      "Requirement already satisfied: pyspark in /opt/conda/lib/python3.7/site-packages (3.3.2)\n",
      "Requirement already satisfied: py4j==0.10.9.5 in /opt/conda/lib/python3.7/site-packages (from pyspark) (0.10.9.5)\n",
      "\u001b[33mWARNING: Running pip as the 'root' user can result in broken permissions and conflicting behaviour with the system package manager. It is recommended to use a virtual environment instead: https://pip.pypa.io/warnings/venv\u001b[0m\u001b[33m\n",
      "\u001b[0mNote: you may need to restart the kernel to use updated packages.\n"
     ]
    }
   ],
   "source": [
    "pip install pyspark"
   ]
  },
  {
   "cell_type": "code",
   "execution_count": 2,
   "metadata": {
    "_cell_guid": "b1076dfc-b9ad-4769-8c92-a6c4dae69d19",
    "_uuid": "8f2839f25d086af736a60e9eeb907d3b93b6e0e5",
    "execution": {
     "iopub.execute_input": "2023-02-26T17:27:25.345613Z",
     "iopub.status.busy": "2023-02-26T17:27:25.345187Z",
     "iopub.status.idle": "2023-02-26T17:27:25.410614Z",
     "shell.execute_reply": "2023-02-26T17:27:25.408674Z",
     "shell.execute_reply.started": "2023-02-26T17:27:25.345567Z"
    }
   },
   "outputs": [],
   "source": [
    "# Librerie\n",
    "from pyspark.sql import SparkSession\n",
    "from pyspark.sql.window import Window as W\n",
    "import pyspark.sql.types as T\n",
    "import pyspark.sql.functions as F"
   ]
  },
  {
   "cell_type": "code",
   "execution_count": 3,
   "metadata": {
    "execution": {
     "iopub.execute_input": "2023-02-26T17:27:25.412444Z",
     "iopub.status.busy": "2023-02-26T17:27:25.411916Z",
     "iopub.status.idle": "2023-02-26T17:27:30.544857Z",
     "shell.execute_reply": "2023-02-26T17:27:30.543874Z",
     "shell.execute_reply.started": "2023-02-26T17:27:25.412394Z"
    }
   },
   "outputs": [
    {
     "name": "stderr",
     "output_type": "stream",
     "text": [
      "Setting default log level to \"WARN\".\n",
      "To adjust logging level use sc.setLogLevel(newLevel). For SparkR, use setLogLevel(newLevel).\n"
     ]
    },
    {
     "name": "stdout",
     "output_type": "stream",
     "text": [
      "23/02/26 17:27:28 WARN NativeCodeLoader: Unable to load native-hadoop library for your platform... using builtin-java classes where applicable\n"
     ]
    }
   ],
   "source": [
    "# Creazione Spark Session\n",
    "spark = (SparkSession.builder.appName(\"Azienda\").getOrCreate())"
   ]
  },
  {
   "cell_type": "code",
   "execution_count": 4,
   "metadata": {
    "execution": {
     "iopub.execute_input": "2023-02-26T17:27:30.549006Z",
     "iopub.status.busy": "2023-02-26T17:27:30.548221Z",
     "iopub.status.idle": "2023-02-26T17:27:30.554303Z",
     "shell.execute_reply": "2023-02-26T17:27:30.553124Z",
     "shell.execute_reply.started": "2023-02-26T17:27:30.548953Z"
    }
   },
   "outputs": [],
   "source": [
    "# Percorso dei csv file che vogliamo leggere\n",
    "dipendenti_fpath = \"/kaggle/input/azienda/Dipendenti.csv\"\n",
    "reparti_fpath = \"/kaggle/input/azienda/Reparti.csv\"\n",
    "tickets_fpath = \"/kaggle/input/azienda/Tickets.csv\""
   ]
  },
  {
   "cell_type": "code",
   "execution_count": 5,
   "metadata": {
    "execution": {
     "iopub.execute_input": "2023-02-26T17:27:30.556907Z",
     "iopub.status.busy": "2023-02-26T17:27:30.555915Z",
     "iopub.status.idle": "2023-02-26T17:27:39.068159Z",
     "shell.execute_reply": "2023-02-26T17:27:39.066991Z",
     "shell.execute_reply.started": "2023-02-26T17:27:30.556861Z"
    }
   },
   "outputs": [
    {
     "name": "stdout",
     "output_type": "stream",
     "text": [
      "+--------+--------+-------+---------+\n",
      "|    Nome| Cognome|Reparto|Stipendio|\n",
      "+--------+--------+-------+---------+\n",
      "|  Andrea|  Assini|     IT|     1500|\n",
      "|   Bruno| Bettini|     IT|     2000|\n",
      "|   Carlo|Cicerini|     IT|     1800|\n",
      "|   Dario|  Desini|     HR|     1200|\n",
      "|   Elena| Ettorre|     HR|     1600|\n",
      "|Federica| Fierini|     HR|     2200|\n",
      "|  Giulia|Giorgini|     HR|     1400|\n",
      "|   Ivana|  Itteri|    CEO|     3000|\n",
      "+--------+--------+-------+---------+\n",
      "\n",
      "+-------+--------------+-------+\n",
      "|Reparto|  Responsabile|   Sede|\n",
      "+-------+--------------+-------+\n",
      "|     IT| Matteo Micini|   Roma|\n",
      "|     HR|Nunzia Nimetti| Milano|\n",
      "|    CEO| Orazio Ovinci|Bologna|\n",
      "+-------+--------------+-------+\n",
      "\n",
      "+-------------+-------+------+\n",
      "|Ticket Number|Reparto|Inflow|\n",
      "+-------------+-------+------+\n",
      "|            1|     IT|   100|\n",
      "|            2|     HR|     0|\n",
      "|            3|     IT|   300|\n",
      "|            4|     IT|   150|\n",
      "|            5|     HR|     0|\n",
      "|            6|     IT|   200|\n",
      "|            7|     HR|     0|\n",
      "|            8|     IT|   800|\n",
      "|            9|   NULL|   999|\n",
      "+-------------+-------+------+\n",
      "\n"
     ]
    }
   ],
   "source": [
    "# Creazione dei dataframe\n",
    "\n",
    "dipendenti_df = (spark.read.format(\"csv\")\n",
    "                .option(\"header\", True)\n",
    "                .option(\"inferSchema\", True)\n",
    "                .option(\"delimiter\", \";\")\n",
    "                .load(dipendenti_fpath))\n",
    "\n",
    "reparti_df = (spark.read.format(\"csv\")\n",
    "             .option(\"header\", True)\n",
    "             .option(\"inferSchema\", True)\n",
    "             .option(\"delimiter\", \";\")\n",
    "             .load(reparti_fpath))\n",
    "\n",
    "tickets_df = (spark.read.format(\"csv\")\n",
    "             .option(\"header\", True)\n",
    "             .option(\"inferSchema\", True)\n",
    "             .option(\"delimiter\", \";\")\n",
    "             .load(tickets_fpath))\n",
    "\n",
    "dipendenti_df.show(10)\n",
    "reparti_df.show(10)\n",
    "tickets_df.show(10)"
   ]
  },
  {
   "cell_type": "code",
   "execution_count": 6,
   "metadata": {
    "execution": {
     "iopub.execute_input": "2023-02-26T17:27:39.069379Z",
     "iopub.status.busy": "2023-02-26T17:27:39.069093Z",
     "iopub.status.idle": "2023-02-26T17:27:39.324017Z",
     "shell.execute_reply": "2023-02-26T17:27:39.322954Z",
     "shell.execute_reply.started": "2023-02-26T17:27:39.069349Z"
    }
   },
   "outputs": [
    {
     "name": "stdout",
     "output_type": "stream",
     "text": [
      "+--------+--------+-------+---------+\n",
      "|    Nome| Cognome|Reparto|Stipendio|\n",
      "+--------+--------+-------+---------+\n",
      "|  Andrea|  Assini|     IT|     1500|\n",
      "|   Bruno| Bettini|     IT|     2000|\n",
      "|   Carlo|Cicerini|     IT|     1800|\n",
      "|   Dario|  Desini|     HR|     1200|\n",
      "|   Elena| Ettorre|     HR|     1600|\n",
      "|Federica| Fierini|     HR|     2200|\n",
      "|  Giulia|Giorgini|     HR|     1400|\n",
      "|   Ivana|  Itteri|    CEO|     3000|\n",
      "+--------+--------+-------+---------+\n",
      "\n"
     ]
    }
   ],
   "source": [
    "# NB: invece di usare infereSchema potevamo definire manualmente gli schemi\n",
    "\n",
    "schema = T.StructType([\n",
    "        T.StructField(\"Nome\", T.StringType(), True),\n",
    "        T.StructField(\"Cognome\", T.StringType(), True),\n",
    "        T.StructField(\"Reparto\", T.StringType(), True),\n",
    "        T.StructField(\"Stipendio\", T.IntegerType(), True)])\n",
    "\n",
    "dipendenti_data_raw = (spark.read.format(\"csv\")\n",
    "                       .option(\"header\", True)\n",
    "                       .option(\"delimiter\", \";\")\n",
    "                       .schema(schema) # <---\n",
    "                       .load(dipendenti_fpath))\n",
    "\n",
    "dipendenti_data_raw.show()"
   ]
  },
  {
   "cell_type": "code",
   "execution_count": 7,
   "metadata": {
    "execution": {
     "iopub.execute_input": "2023-02-26T17:27:39.325521Z",
     "iopub.status.busy": "2023-02-26T17:27:39.325183Z",
     "iopub.status.idle": "2023-02-26T17:27:39.593390Z",
     "shell.execute_reply": "2023-02-26T17:27:39.592219Z",
     "shell.execute_reply.started": "2023-02-26T17:27:39.325486Z"
    }
   },
   "outputs": [
    {
     "name": "stdout",
     "output_type": "stream",
     "text": [
      "+-------------+-------+------+\n",
      "|Ticket Number|Reparto|Inflow|\n",
      "+-------------+-------+------+\n",
      "|            1|     IT|   100|\n",
      "|            2|     HR|     0|\n",
      "|            3|     IT|   300|\n",
      "|            4|     IT|   150|\n",
      "|            5|     HR|     0|\n",
      "|            6|     IT|   200|\n",
      "|            7|     HR|     0|\n",
      "|            8|     IT|   800|\n",
      "+-------------+-------+------+\n",
      "\n"
     ]
    }
   ],
   "source": [
    "# Rimozione record indesiderati\n",
    "tickets_df = tickets_df.filter(F.col(\"Reparto\")!=\"NULL\")\n",
    "tickets_df.show()"
   ]
  },
  {
   "cell_type": "code",
   "execution_count": 8,
   "metadata": {
    "execution": {
     "iopub.execute_input": "2023-02-26T17:27:39.594851Z",
     "iopub.status.busy": "2023-02-26T17:27:39.594478Z",
     "iopub.status.idle": "2023-02-26T17:27:39.862110Z",
     "shell.execute_reply": "2023-02-26T17:27:39.861166Z",
     "shell.execute_reply.started": "2023-02-26T17:27:39.594812Z"
    }
   },
   "outputs": [
    {
     "name": "stdout",
     "output_type": "stream",
     "text": [
      "+--------+-------+---------+\n",
      "|    Nome|Cognome|Stipendio|\n",
      "+--------+-------+---------+\n",
      "|Federica|Fierini|     2200|\n",
      "|   Ivana| Itteri|     3000|\n",
      "+--------+-------+---------+\n",
      "\n"
     ]
    }
   ],
   "source": [
    "# Nome e cognome di coloro che hanno uno stipendio superiore a 2000 euro\n",
    "dipendenti_df.select(\"Nome\", \"Cognome\", \"Stipendio\").filter(F.col(\"Stipendio\")>2000).show()"
   ]
  },
  {
   "cell_type": "code",
   "execution_count": 9,
   "metadata": {
    "execution": {
     "iopub.execute_input": "2023-02-26T17:27:39.863258Z",
     "iopub.status.busy": "2023-02-26T17:27:39.862928Z",
     "iopub.status.idle": "2023-02-26T17:27:41.120980Z",
     "shell.execute_reply": "2023-02-26T17:27:41.118190Z",
     "shell.execute_reply.started": "2023-02-26T17:27:39.863227Z"
    }
   },
   "outputs": [
    {
     "name": "stdout",
     "output_type": "stream",
     "text": [
      "+-------+-----------------+\n",
      "|Reparto|Numero dipendenti|\n",
      "+-------+-----------------+\n",
      "|     HR|                4|\n",
      "|     IT|                3|\n",
      "|    CEO|                1|\n",
      "+-------+-----------------+\n",
      "\n"
     ]
    }
   ],
   "source": [
    "# Numero di dipendenti per ogni reparto\n",
    "numero_dipendenti_df = dipendenti_df.groupBy(F.col(\"Reparto\")).agg(F.count(\"*\").alias(\"Numero dipendenti\"))\n",
    "numero_dipendenti_df = numero_dipendenti_df.orderBy(F.col(\"Numero dipendenti\").desc())\n",
    "numero_dipendenti_df.show()"
   ]
  },
  {
   "cell_type": "code",
   "execution_count": 10,
   "metadata": {
    "execution": {
     "iopub.execute_input": "2023-02-26T17:27:41.128231Z",
     "iopub.status.busy": "2023-02-26T17:27:41.127711Z",
     "iopub.status.idle": "2023-02-26T17:27:41.868505Z",
     "shell.execute_reply": "2023-02-26T17:27:41.867203Z",
     "shell.execute_reply.started": "2023-02-26T17:27:41.128179Z"
    }
   },
   "outputs": [
    {
     "name": "stdout",
     "output_type": "stream",
     "text": [
      "+------+--------+-------+---------+--------------+------+-------------+------+\n",
      "|  Nome| Cognome|Reparto|Stipendio|  Responsabile|  Sede|Ticket Number|Inflow|\n",
      "+------+--------+-------+---------+--------------+------+-------------+------+\n",
      "|Andrea|  Assini|     IT|     1500| Matteo Micini|  Roma|            8|   800|\n",
      "|Andrea|  Assini|     IT|     1500| Matteo Micini|  Roma|            6|   200|\n",
      "|Andrea|  Assini|     IT|     1500| Matteo Micini|  Roma|            4|   150|\n",
      "|Andrea|  Assini|     IT|     1500| Matteo Micini|  Roma|            3|   300|\n",
      "|Andrea|  Assini|     IT|     1500| Matteo Micini|  Roma|            1|   100|\n",
      "| Bruno| Bettini|     IT|     2000| Matteo Micini|  Roma|            8|   800|\n",
      "| Bruno| Bettini|     IT|     2000| Matteo Micini|  Roma|            6|   200|\n",
      "| Bruno| Bettini|     IT|     2000| Matteo Micini|  Roma|            4|   150|\n",
      "| Bruno| Bettini|     IT|     2000| Matteo Micini|  Roma|            3|   300|\n",
      "| Bruno| Bettini|     IT|     2000| Matteo Micini|  Roma|            1|   100|\n",
      "| Carlo|Cicerini|     IT|     1800| Matteo Micini|  Roma|            8|   800|\n",
      "| Carlo|Cicerini|     IT|     1800| Matteo Micini|  Roma|            6|   200|\n",
      "| Carlo|Cicerini|     IT|     1800| Matteo Micini|  Roma|            4|   150|\n",
      "| Carlo|Cicerini|     IT|     1800| Matteo Micini|  Roma|            3|   300|\n",
      "| Carlo|Cicerini|     IT|     1800| Matteo Micini|  Roma|            1|   100|\n",
      "| Dario|  Desini|     HR|     1200|Nunzia Nimetti|Milano|            7|     0|\n",
      "| Dario|  Desini|     HR|     1200|Nunzia Nimetti|Milano|            5|     0|\n",
      "| Dario|  Desini|     HR|     1200|Nunzia Nimetti|Milano|            2|     0|\n",
      "| Elena| Ettorre|     HR|     1600|Nunzia Nimetti|Milano|            7|     0|\n",
      "| Elena| Ettorre|     HR|     1600|Nunzia Nimetti|Milano|            5|     0|\n",
      "+------+--------+-------+---------+--------------+------+-------------+------+\n",
      "only showing top 20 rows\n",
      "\n"
     ]
    }
   ],
   "source": [
    "# Join tabelle (DEMO)\n",
    "\n",
    "dipendenti_df = dipendenti_df.withColumnRenamed(\"Reparto\", \"Reparto_d\")\n",
    "reparti_df = reparti_df.withColumnRenamed(\"Reparto\", \"Reparto_r\")\n",
    "tickets_df = tickets_df.withColumnRenamed(\"Reparto\", \"Reparto_t\")\n",
    "\n",
    "azienda_df = dipendenti_df.join(reparti_df, dipendenti_df[\"Reparto_d\"] == reparti_df[\"Reparto_r\"]).join(tickets_df, dipendenti_df[\"Reparto_d\"] == tickets_df[\"Reparto_t\"])\n",
    "\n",
    "azienda_df = azienda_df.drop(\"Reparto_r\").drop(\"Reparto_t\").withColumnRenamed(\"Reparto_d\", \"Reparto\")\n",
    "\n",
    "azienda_df.show()"
   ]
  },
  {
   "cell_type": "code",
   "execution_count": 11,
   "metadata": {
    "execution": {
     "iopub.execute_input": "2023-02-26T17:27:41.870669Z",
     "iopub.status.busy": "2023-02-26T17:27:41.869897Z",
     "iopub.status.idle": "2023-02-26T17:27:42.233391Z",
     "shell.execute_reply": "2023-02-26T17:27:42.232369Z",
     "shell.execute_reply.started": "2023-02-26T17:27:41.870573Z"
    }
   },
   "outputs": [
    {
     "name": "stdout",
     "output_type": "stream",
     "text": [
      "+--------+--------+--------------+\n",
      "|    Nome| Cognome|  Responsabile|\n",
      "+--------+--------+--------------+\n",
      "|  Andrea|  Assini| Matteo Micini|\n",
      "|   Bruno| Bettini| Matteo Micini|\n",
      "|   Carlo|Cicerini| Matteo Micini|\n",
      "|   Dario|  Desini|Nunzia Nimetti|\n",
      "|   Elena| Ettorre|Nunzia Nimetti|\n",
      "|Federica| Fierini|Nunzia Nimetti|\n",
      "|  Giulia|Giorgini|Nunzia Nimetti|\n",
      "|   Ivana|  Itteri| Orazio Ovinci|\n",
      "+--------+--------+--------------+\n",
      "\n"
     ]
    }
   ],
   "source": [
    "# Per ogni dipendente, il responsabile\n",
    "responsabili_df = dipendenti_df.join(reparti_df, dipendenti_df[\"Reparto_d\"]==reparti_df[\"Reparto_r\"])\n",
    "responsabili_df = responsabili_df.select(\"Nome\", \"Cognome\", \"Responsabile\")\n",
    "responsabili_df.show()"
   ]
  },
  {
   "cell_type": "code",
   "execution_count": 12,
   "metadata": {
    "execution": {
     "iopub.execute_input": "2023-02-26T17:27:42.235691Z",
     "iopub.status.busy": "2023-02-26T17:27:42.234471Z",
     "iopub.status.idle": "2023-02-26T17:27:42.640235Z",
     "shell.execute_reply": "2023-02-26T17:27:42.638557Z",
     "shell.execute_reply.started": "2023-02-26T17:27:42.235615Z"
    }
   },
   "outputs": [
    {
     "name": "stdout",
     "output_type": "stream",
     "text": [
      "+-------+-----------+\n",
      "|Reparto|Tickets_tot|\n",
      "+-------+-----------+\n",
      "|     HR|          3|\n",
      "|     IT|          5|\n",
      "+-------+-----------+\n",
      "\n"
     ]
    }
   ],
   "source": [
    "# Per ogni reparto, il numero di ticket \n",
    "tickets_df.withColumnRenamed(\"Reparto_t\", \"Reparto\").groupBy(\"Reparto\").agg(F.count(\"*\").alias(\"Tickets_tot\")).show()"
   ]
  },
  {
   "cell_type": "code",
   "execution_count": 13,
   "metadata": {
    "execution": {
     "iopub.execute_input": "2023-02-26T17:27:42.642462Z",
     "iopub.status.busy": "2023-02-26T17:27:42.641976Z",
     "iopub.status.idle": "2023-02-26T17:27:42.842090Z",
     "shell.execute_reply": "2023-02-26T17:27:42.840892Z",
     "shell.execute_reply.started": "2023-02-26T17:27:42.642412Z"
    }
   },
   "outputs": [
    {
     "name": "stdout",
     "output_type": "stream",
     "text": [
      "+--------+--------+---------+---------+---------+\n",
      "|    Nome| Cognome|Reparto_d|Stipendio|Categoria|\n",
      "+--------+--------+---------+---------+---------+\n",
      "|  Andrea|  Assini|       IT|     1500|      LOW|\n",
      "|   Bruno| Bettini|       IT|     2000|      LOW|\n",
      "|   Carlo|Cicerini|       IT|     1800|      LOW|\n",
      "|   Dario|  Desini|       HR|     1200|      LOW|\n",
      "|   Elena| Ettorre|       HR|     1600|      LOW|\n",
      "|Federica| Fierini|       HR|     2200|     HIGH|\n",
      "|  Giulia|Giorgini|       HR|     1400|      LOW|\n",
      "|   Ivana|  Itteri|      CEO|     3000|     HIGH|\n",
      "+--------+--------+---------+---------+---------+\n",
      "\n"
     ]
    }
   ],
   "source": [
    "# Etichettare i dipendenti che guadagnano più di 2000 euro come \"HIGH\" e gli altri come \"LOW\"\n",
    "categorie_df = dipendenti_df.withColumn(\"Categoria\", F.when(dipendenti_df[\"Stipendio\"]>2000, \"HIGH\").otherwise(\"LOW\"))\n",
    "categorie_df.show()"
   ]
  },
  {
   "cell_type": "code",
   "execution_count": 14,
   "metadata": {
    "execution": {
     "iopub.execute_input": "2023-02-26T17:27:42.843943Z",
     "iopub.status.busy": "2023-02-26T17:27:42.843550Z",
     "iopub.status.idle": "2023-02-26T17:27:43.326324Z",
     "shell.execute_reply": "2023-02-26T17:27:43.325443Z",
     "shell.execute_reply.started": "2023-02-26T17:27:42.843901Z"
    }
   },
   "outputs": [
    {
     "name": "stdout",
     "output_type": "stream",
     "text": [
      "+---------+---------------+\n",
      "|Reparto_d|Stipendio Medio|\n",
      "+---------+---------------+\n",
      "|       HR|       1,600.00|\n",
      "|      CEO|       3,000.00|\n",
      "|       IT|       1,766.67|\n",
      "+---------+---------------+\n",
      "\n"
     ]
    }
   ],
   "source": [
    "# Stipendio medio per reparto\n",
    "stipendi_medi_df = dipendenti_df.groupBy(\"Reparto_d\").agg(F.avg(\"Stipendio\").alias(\"Stipendio Medio\"))\n",
    "stipendi_medi_df = stipendi_medi_df.withColumn(\"Stipendio Medio\", F.format_number(\"Stipendio Medio\", 2))\n",
    "stipendi_medi_df.show()"
   ]
  },
  {
   "cell_type": "code",
   "execution_count": 15,
   "metadata": {
    "execution": {
     "iopub.execute_input": "2023-02-26T17:27:43.327443Z",
     "iopub.status.busy": "2023-02-26T17:27:43.327181Z",
     "iopub.status.idle": "2023-02-26T17:27:43.872198Z",
     "shell.execute_reply": "2023-02-26T17:27:43.870620Z",
     "shell.execute_reply.started": "2023-02-26T17:27:43.327417Z"
    }
   },
   "outputs": [
    {
     "name": "stdout",
     "output_type": "stream",
     "text": [
      "+--------+--------+---------+---------+-----------------------+\n",
      "|    Nome| Cognome|Reparto_d|Stipendio|Stipendio Medio Reparto|\n",
      "+--------+--------+---------+---------+-----------------------+\n",
      "|   Ivana|  Itteri|      CEO|     3000|                   3000|\n",
      "|   Dario|  Desini|       HR|     1200|                   6400|\n",
      "|   Elena| Ettorre|       HR|     1600|                   6400|\n",
      "|Federica| Fierini|       HR|     2200|                   6400|\n",
      "|  Giulia|Giorgini|       HR|     1400|                   6400|\n",
      "|  Andrea|  Assini|       IT|     1500|                   5300|\n",
      "|   Bruno| Bettini|       IT|     2000|                   5300|\n",
      "|   Carlo|Cicerini|       IT|     1800|                   5300|\n",
      "+--------+--------+---------+---------+-----------------------+\n",
      "\n"
     ]
    }
   ],
   "source": [
    "# Totale stipendi per reparto (Over Partition)\n",
    "stipendi_reparto_df = dipendenti_df.withColumn(\"Stipendio Medio Reparto\", F.sum(\"Stipendio\").over(W.partitionBy(\"Reparto_d\")))\n",
    "stipendi_reparto_df.show()"
   ]
  }
 ],
 "metadata": {
  "kernelspec": {
   "display_name": "Python 3 (ipykernel)",
   "language": "python",
   "name": "python3"
  },
  "language_info": {
   "codemirror_mode": {
    "name": "ipython",
    "version": 3
   },
   "file_extension": ".py",
   "mimetype": "text/x-python",
   "name": "python",
   "nbconvert_exporter": "python",
   "pygments_lexer": "ipython3",
   "version": "3.9.13"
  }
 },
 "nbformat": 4,
 "nbformat_minor": 4
}
