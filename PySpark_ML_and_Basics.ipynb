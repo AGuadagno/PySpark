{
 "cells": [
  {
   "cell_type": "code",
   "execution_count": 1,
   "id": "f2e22760",
   "metadata": {},
   "outputs": [
    {
     "name": "stdout",
     "output_type": "stream",
     "text": [
      "Requirement already satisfied: pyspark in c:\\users\\anton\\anaconda\\lib\\site-packages (3.3.1)\n",
      "Requirement already satisfied: py4j==0.10.9.5 in c:\\users\\anton\\anaconda\\lib\\site-packages (from pyspark) (0.10.9.5)\n"
     ]
    }
   ],
   "source": [
    "# Installing PySpark\n",
    "!pip install pyspark"
   ]
  },
  {
   "cell_type": "code",
   "execution_count": 2,
   "id": "48d3897f",
   "metadata": {},
   "outputs": [],
   "source": [
    "# Importing libraries\n",
    "\n",
    "import os\n",
    "import io\n",
    "import time\n",
    "import json\n",
    "import struct\n",
    "import requests \n",
    "import pyspark\n",
    "\n",
    "from pyspark.sql import SparkSession\n",
    "from pyspark.sql.functions import *\n",
    "from pyspark.streaming import StreamingContext\n",
    "from pyspark.ml.feature import VectorAssembler\n",
    "from pyspark.ml.regression import LinearRegression"
   ]
  },
  {
   "cell_type": "code",
   "execution_count": 3,
   "id": "4f26d85b",
   "metadata": {},
   "outputs": [
    {
     "data": {
      "text/html": [
       "\n",
       "            <div>\n",
       "                <p><b>SparkSession - in-memory</b></p>\n",
       "                \n",
       "        <div>\n",
       "            <p><b>SparkContext</b></p>\n",
       "\n",
       "            <p><a href=\"http://host.docker.internal:4040\">Spark UI</a></p>\n",
       "\n",
       "            <dl>\n",
       "              <dt>Version</dt>\n",
       "                <dd><code>v3.3.1</code></dd>\n",
       "              <dt>Master</dt>\n",
       "                <dd><code>local[*]</code></dd>\n",
       "              <dt>AppName</dt>\n",
       "                <dd><code>SalaryExperience</code></dd>\n",
       "            </dl>\n",
       "        </div>\n",
       "        \n",
       "            </div>\n",
       "        "
      ],
      "text/plain": [
       "<pyspark.sql.session.SparkSession at 0x2c22b2f6dc0>"
      ]
     },
     "execution_count": 3,
     "metadata": {},
     "output_type": "execute_result"
    }
   ],
   "source": [
    "# Starting a Spark session\n",
    "spark = SparkSession.builder.appName('SalaryExperience').getOrCreate()\n",
    "spark"
   ]
  },
  {
   "cell_type": "markdown",
   "id": "586f368a",
   "metadata": {},
   "source": [
    "# BASICS"
   ]
  },
  {
   "cell_type": "code",
   "execution_count": 4,
   "id": "f2770791",
   "metadata": {},
   "outputs": [
    {
     "name": "stdout",
     "output_type": "stream",
     "text": [
      "+-----+---+----------+------+------+\n",
      "| Name|Age|Experience|Sector|Salary|\n",
      "+-----+---+----------+------+------+\n",
      "| Mark| 21|         3|    IT|  1500|\n",
      "| John| 30|        12|    IT|  6000|\n",
      "|Sarah| 22|         4| Sales|  2000|\n",
      "| Carl| 45|        27|    IT| 13500|\n",
      "| Lisa| 23|         5| Sales|  2500|\n",
      "| Paul| 56|        38|    IT| 19000|\n",
      "+-----+---+----------+------+------+\n",
      "\n"
     ]
    }
   ],
   "source": [
    "# Reading data\n",
    "df_pyspark = spark.read.option(\"delimiter\",\";\").csv('SalaryExperience.csv', header=True, inferSchema=True)\n",
    "df_pyspark.show()"
   ]
  },
  {
   "cell_type": "code",
   "execution_count": 5,
   "id": "ec951c02",
   "metadata": {},
   "outputs": [
    {
     "name": "stdout",
     "output_type": "stream",
     "text": [
      "+-----+---+------+\n",
      "| Name|Age|Salary|\n",
      "+-----+---+------+\n",
      "| Mark| 21|  1500|\n",
      "| John| 30|  6000|\n",
      "|Sarah| 22|  2000|\n",
      "| Carl| 45| 13500|\n",
      "| Lisa| 23|  2500|\n",
      "| Paul| 56| 19000|\n",
      "+-----+---+------+\n",
      "\n"
     ]
    }
   ],
   "source": [
    "# Selecting some columns\n",
    "df_pyspark.select(['Name', 'Age', 'Salary']).show()"
   ]
  },
  {
   "cell_type": "code",
   "execution_count": 6,
   "id": "137f4210",
   "metadata": {},
   "outputs": [
    {
     "data": {
      "text/plain": [
       "6"
      ]
     },
     "execution_count": 6,
     "metadata": {},
     "output_type": "execute_result"
    }
   ],
   "source": [
    "# Counting the number of employees\n",
    "df_pyspark.count()"
   ]
  },
  {
   "cell_type": "code",
   "execution_count": 7,
   "id": "1c4389ee",
   "metadata": {},
   "outputs": [
    {
     "name": "stdout",
     "output_type": "stream",
     "text": [
      "+-----+---+----------+------+------+\n",
      "| Name|Age|Experience|Sector|Salary|\n",
      "+-----+---+----------+------+------+\n",
      "| Mark| 21|         3|    IT|  1500|\n",
      "|Sarah| 22|         4| Sales|  2000|\n",
      "| Lisa| 23|         5| Sales|  2500|\n",
      "+-----+---+----------+------+------+\n",
      "\n"
     ]
    }
   ],
   "source": [
    "# Filter: show under-30 only\"\n",
    "df_pyspark.filter(\"Age<30\").show()"
   ]
  },
  {
   "cell_type": "code",
   "execution_count": 8,
   "id": "2c2e0c8d",
   "metadata": {},
   "outputs": [
    {
     "name": "stdout",
     "output_type": "stream",
     "text": [
      "+-----------------+\n",
      "|      avg(Salary)|\n",
      "+-----------------+\n",
      "|7416.666666666667|\n",
      "+-----------------+\n",
      "\n"
     ]
    }
   ],
   "source": [
    "# Computing the average salary\n",
    "df_pyspark.select(avg ('Salary')).show()"
   ]
  },
  {
   "cell_type": "code",
   "execution_count": 9,
   "id": "7c1da14e",
   "metadata": {},
   "outputs": [
    {
     "name": "stdout",
     "output_type": "stream",
     "text": [
      "+------+-----------+\n",
      "|Sector|avg(Salary)|\n",
      "+------+-----------+\n",
      "| Sales|     2250.0|\n",
      "|    IT|    10000.0|\n",
      "+------+-----------+\n",
      "\n"
     ]
    }
   ],
   "source": [
    "# Computing the average salary grouping by department\n",
    "df_pyspark.groupBy('Sector').avg ('Salary').show()"
   ]
  },
  {
   "cell_type": "code",
   "execution_count": 10,
   "id": "a6bb6332",
   "metadata": {},
   "outputs": [
    {
     "name": "stdout",
     "output_type": "stream",
     "text": [
      "+------+-----------+\n",
      "|Sector|max(Salary)|\n",
      "+------+-----------+\n",
      "| Sales|       2500|\n",
      "|    IT|      19000|\n",
      "+------+-----------+\n",
      "\n"
     ]
    }
   ],
   "source": [
    "# Computing the maximum salary grouping by department\n",
    "df_pyspark.groupBy('Sector').max ('Salary').show()"
   ]
  },
  {
   "cell_type": "markdown",
   "id": "c503ef03",
   "metadata": {},
   "source": [
    "# ML"
   ]
  },
  {
   "cell_type": "code",
   "execution_count": 11,
   "id": "527e4231",
   "metadata": {},
   "outputs": [
    {
     "name": "stdout",
     "output_type": "stream",
     "text": [
      "+-----+---+----------+------+------+\n",
      "| Name|Age|Experience|Sector|Salary|\n",
      "+-----+---+----------+------+------+\n",
      "| Mark| 21|         3|    IT|  1500|\n",
      "| John| 30|        12|    IT|  6000|\n",
      "|Sarah| 22|         4| Sales|  2000|\n",
      "| Carl| 45|        27|    IT| 13500|\n",
      "| Lisa| 23|         5| Sales|  2500|\n",
      "| Paul| 56|        38|    IT| 19000|\n",
      "+-----+---+----------+------+------+\n",
      "\n"
     ]
    }
   ],
   "source": [
    "training = spark.read.option(\"delimiter\",\";\").csv('SalaryExperience.csv', header=True, inferSchema=True)\n",
    "training.show()"
   ]
  },
  {
   "cell_type": "code",
   "execution_count": 12,
   "id": "42eb5a06",
   "metadata": {},
   "outputs": [],
   "source": [
    "# Putting together independent variables\n",
    "featureAssembler =  VectorAssembler(inputCols = [\"Age\", \"Experience\"], outputCol = \"IndependentFeatures\")"
   ]
  },
  {
   "cell_type": "code",
   "execution_count": 13,
   "id": "fb8a5e8f",
   "metadata": {},
   "outputs": [
    {
     "name": "stdout",
     "output_type": "stream",
     "text": [
      "+-----+---+----------+------+------+-------------------+\n",
      "| Name|Age|Experience|Sector|Salary|IndependentFeatures|\n",
      "+-----+---+----------+------+------+-------------------+\n",
      "| Mark| 21|         3|    IT|  1500|         [21.0,3.0]|\n",
      "| John| 30|        12|    IT|  6000|        [30.0,12.0]|\n",
      "|Sarah| 22|         4| Sales|  2000|         [22.0,4.0]|\n",
      "| Carl| 45|        27|    IT| 13500|        [45.0,27.0]|\n",
      "| Lisa| 23|         5| Sales|  2500|         [23.0,5.0]|\n",
      "| Paul| 56|        38|    IT| 19000|        [56.0,38.0]|\n",
      "+-----+---+----------+------+------+-------------------+\n",
      "\n"
     ]
    }
   ],
   "source": [
    "# Adding the new vector of independent features\n",
    "output = featureAssembler.transform(training)\n",
    "output.show()"
   ]
  },
  {
   "cell_type": "code",
   "execution_count": 14,
   "id": "e889c7ab",
   "metadata": {},
   "outputs": [
    {
     "name": "stdout",
     "output_type": "stream",
     "text": [
      "+-------------------+------+\n",
      "|IndependentFeatures|Salary|\n",
      "+-------------------+------+\n",
      "|         [21.0,3.0]|  1500|\n",
      "|        [30.0,12.0]|  6000|\n",
      "|         [22.0,4.0]|  2000|\n",
      "|        [45.0,27.0]| 13500|\n",
      "|         [23.0,5.0]|  2500|\n",
      "|        [56.0,38.0]| 19000|\n",
      "+-------------------+------+\n",
      "\n"
     ]
    }
   ],
   "source": [
    "# Taking columns we're interested in \n",
    "data = output.select(\"IndependentFeatures\", \"Salary\")\n",
    "data.show()"
   ]
  },
  {
   "cell_type": "code",
   "execution_count": 15,
   "id": "bd9fbfe6",
   "metadata": {},
   "outputs": [],
   "source": [
    "# Splitting data into train and test set\n",
    "train_data, test_data = data.randomSplit([0.66, 0.33])"
   ]
  },
  {
   "cell_type": "code",
   "execution_count": 16,
   "id": "68e301de",
   "metadata": {},
   "outputs": [],
   "source": [
    "# Creating and training the regressor \n",
    "regressor = LinearRegression(featuresCol = \"IndependentFeatures\", labelCol = \"Salary\")\n",
    "regressor = regressor.fit(train_data)"
   ]
  },
  {
   "cell_type": "code",
   "execution_count": 17,
   "id": "25ac1fd0",
   "metadata": {},
   "outputs": [
    {
     "name": "stdout",
     "output_type": "stream",
     "text": [
      "+-------------------+------+-----------------+\n",
      "|IndependentFeatures|Salary|       prediction|\n",
      "+-------------------+------+-----------------+\n",
      "|         [23.0,5.0]|  2500|2499.999999999998|\n",
      "|        [45.0,27.0]| 13500|          13500.0|\n",
      "+-------------------+------+-----------------+\n",
      "\n"
     ]
    }
   ],
   "source": [
    "# Regressor makes predictions\n",
    "pred_results = regressor.evaluate(test_data)\n",
    "pred_results.predictions.show()"
   ]
  },
  {
   "cell_type": "code",
   "execution_count": 19,
   "id": "33814b10",
   "metadata": {},
   "outputs": [
    {
     "data": {
      "text/plain": [
       "9.094947017729282e-13"
      ]
     },
     "execution_count": 19,
     "metadata": {},
     "output_type": "execute_result"
    }
   ],
   "source": [
    "# Evaluating the model\n",
    "pred_results.meanAbsoluteError"
   ]
  }
 ],
 "metadata": {
  "kernelspec": {
   "display_name": "Python 3 (ipykernel)",
   "language": "python",
   "name": "python3"
  },
  "language_info": {
   "codemirror_mode": {
    "name": "ipython",
    "version": 3
   },
   "file_extension": ".py",
   "mimetype": "text/x-python",
   "name": "python",
   "nbconvert_exporter": "python",
   "pygments_lexer": "ipython3",
   "version": "3.9.12"
  }
 },
 "nbformat": 4,
 "nbformat_minor": 5
}
